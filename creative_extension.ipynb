{
 "cells": [
  {
   "cell_type": "markdown",
   "metadata": {},
   "source": [
    "# Milestone P4 - Creative Extension\n",
    "\n",
    "*Jimmy Paul Martin Wilde, Balz Jakob Gabriel Marty, Romain Alexandre Gros* - Group BJR\n",
    "\n",
    "This notebook documents the creative extension to the paper [Signed networks in social media](https://doi.org/10.1145/1753326.1753532) by J. Leskovec, D. Huttenlocher, and J. Kleinberg.\n",
    "\n",
    "### Table of contents\n",
    "\n",
    "* [Loading data from file](#loadingData)\n",
    "* [Replications](#replications)\n",
    "    * [Basic network properties](#basicNetworkProperties)\n",
    "        * [Nodes](#nodes)\n",
    "        * [Edges](#edges)\n",
    "        * [Fraction of positive and negative edges](#fractions)\n",
    "        * [Triads](#triads)\n",
    "    * [Triad statistics](#triadStatistics)\n",
    "        * [|$T_i$|](#T_i)\n",
    "        * [$p(T_i)$](#p(T_i))\n",
    "        * [$p_0(T_i)$](#p_0(T_i))\n",
    "        * [$s(T_i)$](#s(T_i))\n",
    "* [Analyze properties of the networks](#properties)\n",
    "* [Preference profile of the user](#SVD-PCA)\n",
    "    * [Matrix generation](#matrixgeneration)\n",
    "    * [SVD](#svd)\n",
    "* [Logistic regression](#logreg)\n",
    "\n",
    "**Note:** The the raw data have not been uploaded to github. The first three datasets have been provided by the teaching team of the ADA class. The Reddit data can be downloaded [here](https://snap.stanford.edu/data/soc-RedditHyperlinks.html). The file structure should be the following for the code to work as it is:\n",
    "\n",
    "```\n",
    "ada-2020-project-milestone-p3-p3_bjr\n",
    "│   creative_extension.ipynb\n",
    "│\n",
    "└───images\n",
    "│   │   table1.jpg\n",
    "│   │   table3.jpg\n",
    "│\n",
    "└───rawData\n",
    "    │   soc-sign-epinions.txt\n",
    "    │   soc-sign-Slashdot090221.txt\n",
    "    │   wikiElec.ElecBs3.txt\n",
    "    │   soc-redditHyperlinks-title.tsv\n",
    "    │   soc-redditHyperlinks-body.tsv\n",
    "    \n",
    "```"
   ]
  },
  {
   "cell_type": "code",
   "execution_count": 1,
   "metadata": {},
   "outputs": [
    {
     "name": "stdout",
     "output_type": "stream",
     "text": [
      "Directory  ./results/  already exists\n"
     ]
    }
   ],
   "source": [
    "import pandas as pd\n",
    "import numpy as np\n",
    "import matplotlib.pyplot as plt\n",
    "\n",
    "from IPython.display import Image\n",
    "import linecache # to read a single line in textfile\n",
    "\n",
    "import os\n",
    "import os.path\n",
    "\n",
    "# Print progress bars (cosmetics)\n",
    "import time\n",
    "import progressbar\n",
    "\n",
    "# Set path to folder used for storing results of lengthy computations...\n",
    "PATH_OUTPUT_FOLDER = \"./results/\"\n",
    "# ...and creating the folder if it doesn't exist already.\n",
    "try:\n",
    "    os.makedirs(PATH_OUTPUT_FOLDER)    \n",
    "    print(\"Directory \" , PATH_OUTPUT_FOLDER ,  \" created \")\n",
    "except FileExistsError:\n",
    "    print(\"Directory \" , PATH_OUTPUT_FOLDER ,  \" already exists\")"
   ]
  },
  {
   "cell_type": "markdown",
   "metadata": {},
   "source": [
    "## Loading data from file <a class=\"anchor\" id=\"loadingData\"></a>\n",
    "\n",
    "The variable PATH_TO_DATA to must be set to the relative path to the folder which contains the three raw data files `soc-sign-epinions.txt`, `soc-sign-Slashdot090221.txt`, and `wikiElec.ElecBs3.txt`. "
   ]
  },
  {
   "cell_type": "code",
   "execution_count": 2,
   "metadata": {},
   "outputs": [],
   "source": [
    "PATH_TO_DATA = \"./rawData/\"\n",
    "        \n",
    "# set pandas print options\n",
    "pd.set_option('max_rows', 5) # don't show more than 5 rows\n",
    "pd.options.display.float_format = '{:,.3f}'.format # print floats with one three places"
   ]
  },
  {
   "cell_type": "markdown",
   "metadata": {},
   "source": [
    "The datasets from the *Epinions* product review Web site and the blog *Slashdot* are already stored in the right format for the purposes of this replication exercise."
   ]
  },
  {
   "cell_type": "code",
   "execution_count": 3,
   "metadata": {},
   "outputs": [
    {
     "data": {
      "text/html": [
       "<div>\n",
       "<style scoped>\n",
       "    .dataframe tbody tr th:only-of-type {\n",
       "        vertical-align: middle;\n",
       "    }\n",
       "\n",
       "    .dataframe tbody tr th {\n",
       "        vertical-align: top;\n",
       "    }\n",
       "\n",
       "    .dataframe thead th {\n",
       "        text-align: right;\n",
       "    }\n",
       "</style>\n",
       "<table border=\"1\" class=\"dataframe\">\n",
       "  <thead>\n",
       "    <tr style=\"text-align: right;\">\n",
       "      <th></th>\n",
       "      <th>FromNodeId</th>\n",
       "      <th>ToNodeId</th>\n",
       "      <th>Sign</th>\n",
       "    </tr>\n",
       "  </thead>\n",
       "  <tbody>\n",
       "    <tr>\n",
       "      <th>0</th>\n",
       "      <td>0</td>\n",
       "      <td>1</td>\n",
       "      <td>-1</td>\n",
       "    </tr>\n",
       "    <tr>\n",
       "      <th>1</th>\n",
       "      <td>1</td>\n",
       "      <td>128552</td>\n",
       "      <td>-1</td>\n",
       "    </tr>\n",
       "    <tr>\n",
       "      <th>...</th>\n",
       "      <td>...</td>\n",
       "      <td>...</td>\n",
       "      <td>...</td>\n",
       "    </tr>\n",
       "    <tr>\n",
       "      <th>841370</th>\n",
       "      <td>131825</td>\n",
       "      <td>131826</td>\n",
       "      <td>1</td>\n",
       "    </tr>\n",
       "    <tr>\n",
       "      <th>841371</th>\n",
       "      <td>131827</td>\n",
       "      <td>7714</td>\n",
       "      <td>1</td>\n",
       "    </tr>\n",
       "  </tbody>\n",
       "</table>\n",
       "<p>841372 rows × 3 columns</p>\n",
       "</div>"
      ],
      "text/plain": [
       "        FromNodeId  ToNodeId  Sign\n",
       "0                0         1    -1\n",
       "1                1    128552    -1\n",
       "...            ...       ...   ...\n",
       "841370      131825    131826     1\n",
       "841371      131827      7714     1\n",
       "\n",
       "[841372 rows x 3 columns]"
      ]
     },
     "execution_count": 3,
     "metadata": {},
     "output_type": "execute_result"
    }
   ],
   "source": [
    "filename_epinions = \"soc-sign-epinions.txt\"\n",
    "data_epinions = pd.read_table(PATH_TO_DATA+filename_epinions, names=[\"FromNodeId\", \"ToNodeId\", \"Sign\"], comment='#')\n",
    "data_epinions"
   ]
  },
  {
   "cell_type": "code",
   "execution_count": 4,
   "metadata": {},
   "outputs": [
    {
     "data": {
      "text/html": [
       "<div>\n",
       "<style scoped>\n",
       "    .dataframe tbody tr th:only-of-type {\n",
       "        vertical-align: middle;\n",
       "    }\n",
       "\n",
       "    .dataframe tbody tr th {\n",
       "        vertical-align: top;\n",
       "    }\n",
       "\n",
       "    .dataframe thead th {\n",
       "        text-align: right;\n",
       "    }\n",
       "</style>\n",
       "<table border=\"1\" class=\"dataframe\">\n",
       "  <thead>\n",
       "    <tr style=\"text-align: right;\">\n",
       "      <th></th>\n",
       "      <th>FromNodeId</th>\n",
       "      <th>ToNodeId</th>\n",
       "      <th>Sign</th>\n",
       "    </tr>\n",
       "  </thead>\n",
       "  <tbody>\n",
       "    <tr>\n",
       "      <th>0</th>\n",
       "      <td>0</td>\n",
       "      <td>1</td>\n",
       "      <td>1</td>\n",
       "    </tr>\n",
       "    <tr>\n",
       "      <th>1</th>\n",
       "      <td>0</td>\n",
       "      <td>2</td>\n",
       "      <td>1</td>\n",
       "    </tr>\n",
       "    <tr>\n",
       "      <th>...</th>\n",
       "      <td>...</td>\n",
       "      <td>...</td>\n",
       "      <td>...</td>\n",
       "    </tr>\n",
       "    <tr>\n",
       "      <th>549200</th>\n",
       "      <td>82143</td>\n",
       "      <td>81974</td>\n",
       "      <td>1</td>\n",
       "    </tr>\n",
       "    <tr>\n",
       "      <th>549201</th>\n",
       "      <td>82143</td>\n",
       "      <td>82136</td>\n",
       "      <td>1</td>\n",
       "    </tr>\n",
       "  </tbody>\n",
       "</table>\n",
       "<p>549202 rows × 3 columns</p>\n",
       "</div>"
      ],
      "text/plain": [
       "        FromNodeId  ToNodeId  Sign\n",
       "0                0         1     1\n",
       "1                0         2     1\n",
       "...            ...       ...   ...\n",
       "549200       82143     81974     1\n",
       "549201       82143     82136     1\n",
       "\n",
       "[549202 rows x 3 columns]"
      ]
     },
     "execution_count": 4,
     "metadata": {},
     "output_type": "execute_result"
    }
   ],
   "source": [
    "filename_slashdot = \"soc-sign-Slashdot090221.txt\"\n",
    "data_slashdot = pd.read_table(PATH_TO_DATA+filename_slashdot, names=[\"FromNodeId\", \"ToNodeId\", \"Sign\"], comment='#')\n",
    "data_slashdot"
   ]
  },
  {
   "cell_type": "markdown",
   "metadata": {},
   "source": [
    "The dataset from from the Wikipedia voting network on the other hand needs to be parsed manually since it is not structured like a classical `.csv` file."
   ]
  },
  {
   "cell_type": "code",
   "execution_count": 5,
   "metadata": {},
   "outputs": [
    {
     "ename": "LookupError",
     "evalue": "unknown encoding: ANSI",
     "output_type": "error",
     "traceback": [
      "\u001b[0;31m---------------------------------------------------------------------------\u001b[0m",
      "\u001b[0;31mLookupError\u001b[0m                               Traceback (most recent call last)",
      "\u001b[0;32m<ipython-input-5-f4d81017a0dc>\u001b[0m in \u001b[0;36m<module>\u001b[0;34m\u001b[0m\n\u001b[1;32m      4\u001b[0m \u001b[0mdata_wikipedia\u001b[0m \u001b[0;34m=\u001b[0m \u001b[0;34m[\u001b[0m\u001b[0;34m]\u001b[0m\u001b[0;34m\u001b[0m\u001b[0;34m\u001b[0m\u001b[0m\n\u001b[1;32m      5\u001b[0m \u001b[0;34m\u001b[0m\u001b[0m\n\u001b[0;32m----> 6\u001b[0;31m \u001b[0;32mwith\u001b[0m \u001b[0mopen\u001b[0m\u001b[0;34m(\u001b[0m\u001b[0mPATH_TO_DATA\u001b[0m\u001b[0;34m+\u001b[0m\u001b[0mfilename_wikipedia\u001b[0m\u001b[0;34m,\u001b[0m \u001b[0;34m\"r\"\u001b[0m\u001b[0;34m,\u001b[0m \u001b[0mencoding\u001b[0m\u001b[0;34m=\u001b[0m\u001b[0;34m\"ANSI\"\u001b[0m\u001b[0;34m)\u001b[0m \u001b[0;32mas\u001b[0m \u001b[0mwiki_file\u001b[0m\u001b[0;34m:\u001b[0m\u001b[0;34m\u001b[0m\u001b[0;34m\u001b[0m\u001b[0m\n\u001b[0m\u001b[1;32m      7\u001b[0m \u001b[0;34m\u001b[0m\u001b[0m\n\u001b[1;32m      8\u001b[0m     \u001b[0;31m# Initializing variable to keep track which user's status the vote is about\u001b[0m\u001b[0;34m\u001b[0m\u001b[0;34m\u001b[0m\u001b[0;34m\u001b[0m\u001b[0m\n",
      "\u001b[0;31mLookupError\u001b[0m: unknown encoding: ANSI"
     ]
    }
   ],
   "source": [
    "filename_wikipedia = \"wikiElec.ElecBs3.txt\"\n",
    "\n",
    "# Initialize list to store the edges of the network\n",
    "data_wikipedia = []\n",
    "\n",
    "with open(PATH_TO_DATA+filename_wikipedia, \"r\", encoding=\"ANSI\") as wiki_file:\n",
    "    \n",
    "    # Initializing variable to keep track which user's status the vote is about\n",
    "    ToNodeId = None\n",
    "    \n",
    "    # Read file line by line and extract the two nodes and the sign for each link\n",
    "    for line in wiki_file:\n",
    "        if line[0]=='U':\n",
    "            ToNodeId = int(line.split('\\t')[1])\n",
    "        if line[0]=='V':\n",
    "            _,Sign,FromNodeId,_,_=line.split('\\t')\n",
    "            data_wikipedia.append([int(FromNodeId), ToNodeId, int(Sign)])\n",
    "\n",
    "# Convert to DataFrame with the same structure as the other datasets\n",
    "data_wikipedia = pd.DataFrame(data_wikipedia, columns=[\"FromNodeId\", \"ToNodeId\", \"Sign\"])\n",
    "# Remove neutral votes and keep only signed connections\n",
    "data_wikipedia = data_wikipedia[data_wikipedia['Sign']!=0]\n",
    "data_wikipedia"
   ]
  },
  {
   "cell_type": "code",
   "execution_count": 6,
   "metadata": {},
   "outputs": [],
   "source": [
    "# LookupError                               Traceback (most recent call last)\n",
    "# <ipython-input-5-f4d81017a0dc> in <module>\n",
    "#       4 data_wikipedia = []\n",
    "#       5 \n",
    "# ----> 6 with open(PATH_TO_DATA+filename_wikipedia, \"r\", encoding=\"ANSI\") as wiki_file:\n",
    "#       7 \n",
    "#       8     # Initializing variable to keep track which user's status the vote is about\n",
    "# \n",
    "# LookupError: unknown encoding: ANSI\n",
    "\n",
    "# j'ai cette erreur quand je run la cellule, je pense que c'est à cause de mon OS"
   ]
  },
  {
   "cell_type": "code",
   "execution_count": 7,
   "metadata": {},
   "outputs": [
    {
     "data": {
      "text/html": [
       "<div>\n",
       "<style scoped>\n",
       "    .dataframe tbody tr th:only-of-type {\n",
       "        vertical-align: middle;\n",
       "    }\n",
       "\n",
       "    .dataframe tbody tr th {\n",
       "        vertical-align: top;\n",
       "    }\n",
       "\n",
       "    .dataframe thead th {\n",
       "        text-align: right;\n",
       "    }\n",
       "</style>\n",
       "<table border=\"1\" class=\"dataframe\">\n",
       "  <thead>\n",
       "    <tr style=\"text-align: right;\">\n",
       "      <th></th>\n",
       "      <th>FromNodeId</th>\n",
       "      <th>ToNodeId</th>\n",
       "      <th>Sign</th>\n",
       "    </tr>\n",
       "  </thead>\n",
       "  <tbody>\n",
       "    <tr>\n",
       "      <th>0</th>\n",
       "      <td>3</td>\n",
       "      <td>28</td>\n",
       "      <td>1</td>\n",
       "    </tr>\n",
       "    <tr>\n",
       "      <th>1</th>\n",
       "      <td>3</td>\n",
       "      <td>30</td>\n",
       "      <td>1</td>\n",
       "    </tr>\n",
       "    <tr>\n",
       "      <th>...</th>\n",
       "      <td>...</td>\n",
       "      <td>...</td>\n",
       "      <td>...</td>\n",
       "    </tr>\n",
       "    <tr>\n",
       "      <th>103745</th>\n",
       "      <td>8273</td>\n",
       "      <td>4940</td>\n",
       "      <td>1</td>\n",
       "    </tr>\n",
       "    <tr>\n",
       "      <th>103746</th>\n",
       "      <td>8274</td>\n",
       "      <td>8275</td>\n",
       "      <td>-1</td>\n",
       "    </tr>\n",
       "  </tbody>\n",
       "</table>\n",
       "<p>103747 rows × 3 columns</p>\n",
       "</div>"
      ],
      "text/plain": [
       "        FromNodeId  ToNodeId  Sign\n",
       "0                3        28     1\n",
       "1                3        30     1\n",
       "...            ...       ...   ...\n",
       "103745        8273      4940     1\n",
       "103746        8274      8275    -1\n",
       "\n",
       "[103747 rows x 3 columns]"
      ]
     },
     "execution_count": 7,
     "metadata": {},
     "output_type": "execute_result"
    }
   ],
   "source": [
    "# This file was generated after parsing the data manually\n",
    "filename_wikipedia = \"soc-sign-wikipedia.txt\"\n",
    "data_wikipedia = pd.read_table(PATH_TO_DATA+filename_wikipedia)\n",
    "data_wikipedia"
   ]
  },
  {
   "cell_type": "markdown",
   "metadata": {},
   "source": [
    "The Reddit dataset comes in two parts. Links from one subreddit to another can originate either in the title or the body of a post. For simplicity, we treat these two cases as equivalent. Any additional information available in the dataset, which goes beyond signed edges between nodes, is not considered."
   ]
  },
  {
   "cell_type": "code",
   "execution_count": 8,
   "metadata": {},
   "outputs": [],
   "source": [
    "filenames_reddit = [\"soc-redditHyperlinks-title.tsv\",\"soc-redditHyperlinks-body.tsv\"]"
   ]
  },
  {
   "cell_type": "code",
   "execution_count": 9,
   "metadata": {},
   "outputs": [
    {
     "data": {
      "text/html": [
       "<div>\n",
       "<style scoped>\n",
       "    .dataframe tbody tr th:only-of-type {\n",
       "        vertical-align: middle;\n",
       "    }\n",
       "\n",
       "    .dataframe tbody tr th {\n",
       "        vertical-align: top;\n",
       "    }\n",
       "\n",
       "    .dataframe thead th {\n",
       "        text-align: right;\n",
       "    }\n",
       "</style>\n",
       "<table border=\"1\" class=\"dataframe\">\n",
       "  <thead>\n",
       "    <tr style=\"text-align: right;\">\n",
       "      <th></th>\n",
       "      <th>FromNodeId</th>\n",
       "      <th>ToNodeId</th>\n",
       "      <th>Sign</th>\n",
       "    </tr>\n",
       "  </thead>\n",
       "  <tbody>\n",
       "    <tr>\n",
       "      <th>0</th>\n",
       "      <td>0</td>\n",
       "      <td>1</td>\n",
       "      <td>1</td>\n",
       "    </tr>\n",
       "    <tr>\n",
       "      <th>1</th>\n",
       "      <td>2</td>\n",
       "      <td>3</td>\n",
       "      <td>1</td>\n",
       "    </tr>\n",
       "    <tr>\n",
       "      <th>...</th>\n",
       "      <td>...</td>\n",
       "      <td>...</td>\n",
       "      <td>...</td>\n",
       "    </tr>\n",
       "    <tr>\n",
       "      <th>858486</th>\n",
       "      <td>63969</td>\n",
       "      <td>43</td>\n",
       "      <td>1</td>\n",
       "    </tr>\n",
       "    <tr>\n",
       "      <th>858487</th>\n",
       "      <td>265</td>\n",
       "      <td>573</td>\n",
       "      <td>1</td>\n",
       "    </tr>\n",
       "  </tbody>\n",
       "</table>\n",
       "<p>858488 rows × 3 columns</p>\n",
       "</div>"
      ],
      "text/plain": [
       "        FromNodeId  ToNodeId  Sign\n",
       "0                0         1     1\n",
       "1                2         3     1\n",
       "...            ...       ...   ...\n",
       "858486       63969        43     1\n",
       "858487         265       573     1\n",
       "\n",
       "[858488 rows x 3 columns]"
      ]
     },
     "execution_count": 9,
     "metadata": {},
     "output_type": "execute_result"
    }
   ],
   "source": [
    "data_reddit = pd.concat(   [pd.read_table(PATH_TO_DATA+file, header=0,usecols=[0,1,4],\n",
    "                                          names=[\"FromNodeId\",\"ToNodeId\",\"Sign\"]) \n",
    "                                                        for file in filenames_reddit], ignore_index=True)                         \n",
    "# convert usernames to unique identifier\n",
    "IDs, unique_usernames = pd.factorize(data_reddit[[\"FromNodeId\",\"ToNodeId\"]].values.flatten())\n",
    "data_reddit[[\"FromNodeId\",\"ToNodeId\"]] = IDs.reshape(-1,2)\n",
    "data_reddit"
   ]
  },
  {
   "cell_type": "markdown",
   "metadata": {},
   "source": [
    "## Replications <a class=\"anchor\" id=\"replications\"></a>\n",
    "\n",
    "In this first part, we repeat the analysis that the task of the individual asignments on all four datasets. We do so just to see if the results are also valid on the Reddit data. Please note that we do not always make the same design choices as Leskovec *et al.* since we are not trying to replicate tables from the original paper anymore. We rather treat the the data as a directed graph without multi-edges or self-connections. **This part was adapted from Balz Marty's solution to the individual assignments.**"
   ]
  },
  {
   "cell_type": "code",
   "execution_count": 10,
   "metadata": {},
   "outputs": [
    {
     "name": "stdout",
     "output_type": "stream",
     "text": [
      "Epinions  :\n",
      " \t#multi-edges removed : 0\n",
      "\t#self_conections removed : -573\n",
      "\n",
      "Slashdot  :\n",
      " \t#multi-edges removed : 0\n",
      "\t#self_conections removed : 0\n",
      "\n",
      "Wikipedia  :\n",
      " \t#multi-edges removed : 0\n",
      "\t#self_conections removed : -58\n",
      "\n",
      "Reddit  :\n",
      " \t#multi-edges removed : -518845\n",
      "\t#self_conections removed : 0\n",
      "\n"
     ]
    }
   ],
   "source": [
    "# The datasets are stored in a dictionary\n",
    "datasets = {'Epinions' : data_epinions, 'Slashdot' : data_slashdot, \n",
    "            'Wikipedia' : data_wikipedia, 'Reddit' : data_reddit}\n",
    "            \n",
    "for key in datasets.keys():\n",
    "    # remove non-unique edges - keep only the last of a set of multi-edges in the order they appear in the edge list.\n",
    "    lengths = [len(datasets[key])]\n",
    "    datasets[key] = datasets[key].drop_duplicates(subset=['FromNodeId', 'ToNodeId'], keep='last')\n",
    "    lengths.append(len(datasets[key]))\n",
    "    # remove edges of nodes with themselves\n",
    "    datasets[key] = datasets[key][datasets[key]['FromNodeId']!=datasets[key]['ToNodeId']]\n",
    "    lengths.append(len(datasets[key]))\n",
    "    nb_non_unique,nb_self = np.diff(lengths)\n",
    "    print(key,\" :\\n\",\"\\t#multi-edges removed : {}\\n\\t#self_conections removed : {}\\n\".format(nb_non_unique,nb_self))"
   ]
  },
  {
   "cell_type": "markdown",
   "metadata": {},
   "source": [
    "### Basic network properties <a class=\"anchor\" id=\"basicNetworkProperties\"></a>\n",
    "\n",
    "First, we calculate the basic dataset statistics, which were shown in [Table 1](#table1)."
   ]
  },
  {
   "cell_type": "markdown",
   "metadata": {},
   "source": [
    "<a id='table1'></a>"
   ]
  },
  {
   "cell_type": "code",
   "execution_count": 11,
   "metadata": {},
   "outputs": [
    {
     "data": {
      "image/jpeg": "[encoded data removed]",
      "text/plain": [
       "<IPython.core.display.Image object>"
      ]
     },
     "execution_count": 11,
     "metadata": {
      "image/jpeg": {
       "height": 300,
       "width": 400
      }
     },
     "output_type": "execute_result"
    }
   ],
   "source": [
    "Image('./images/table1.jpg', width=400,height=300) "
   ]
  },
  {
   "cell_type": "code",
   "execution_count": 12,
   "metadata": {},
   "outputs": [],
   "source": [
    "dataset_statistics = pd.DataFrame(index=datasets.keys())"
   ]
  },
  {
   "cell_type": "markdown",
   "metadata": {},
   "source": [
    "#### Nodes <a class=\"anchor\" id=\"nodes\"></a>\n",
    "\n",
    "The datasets take the form of lists of edges. Given our assumptions from above, the number of nodes in each network is then naturally given by the number of unique nodes connected by these links."
   ]
  },
  {
   "cell_type": "code",
   "execution_count": 13,
   "metadata": {},
   "outputs": [
    {
     "data": {
      "text/html": [
       "<div>\n",
       "<style scoped>\n",
       "    .dataframe tbody tr th:only-of-type {\n",
       "        vertical-align: middle;\n",
       "    }\n",
       "\n",
       "    .dataframe tbody tr th {\n",
       "        vertical-align: top;\n",
       "    }\n",
       "\n",
       "    .dataframe thead th {\n",
       "        text-align: right;\n",
       "    }\n",
       "</style>\n",
       "<table border=\"1\" class=\"dataframe\">\n",
       "  <thead>\n",
       "    <tr style=\"text-align: right;\">\n",
       "      <th></th>\n",
       "      <th>Nodes</th>\n",
       "    </tr>\n",
       "  </thead>\n",
       "  <tbody>\n",
       "    <tr>\n",
       "      <th>Epinions</th>\n",
       "      <td>131580</td>\n",
       "    </tr>\n",
       "    <tr>\n",
       "      <th>Slashdot</th>\n",
       "      <td>82140</td>\n",
       "    </tr>\n",
       "    <tr>\n",
       "      <th>Wikipedia</th>\n",
       "      <td>7115</td>\n",
       "    </tr>\n",
       "    <tr>\n",
       "      <th>Reddit</th>\n",
       "      <td>67180</td>\n",
       "    </tr>\n",
       "  </tbody>\n",
       "</table>\n",
       "</div>"
      ],
      "text/plain": [
       "            Nodes\n",
       "Epinions   131580\n",
       "Slashdot    82140\n",
       "Wikipedia    7115\n",
       "Reddit      67180"
      ]
     },
     "execution_count": 13,
     "metadata": {},
     "output_type": "execute_result"
    }
   ],
   "source": [
    "def calculate_nb_nodes(dataset):\n",
    "    # Calculate the number of unique edges \n",
    "    return len(np.unique(dataset.to_numpy()[:,:2]))\n",
    "\n",
    "dataset_statistics['Nodes'] = [calculate_nb_nodes(dataset) for dataset in datasets.values()]\n",
    "dataset_statistics"
   ]
  },
  {
   "cell_type": "markdown",
   "metadata": {},
   "source": [
    "#### Edges <a class=\"anchor\" id=\"edges\"></a>\n",
    "\n",
    "The number of edges corresponds just the number of rows in each dataset. Note that we already removed multi-edges and self-connections."
   ]
  },
  {
   "cell_type": "code",
   "execution_count": 14,
   "metadata": {},
   "outputs": [
    {
     "data": {
      "text/html": [
       "<div>\n",
       "<style scoped>\n",
       "    .dataframe tbody tr th:only-of-type {\n",
       "        vertical-align: middle;\n",
       "    }\n",
       "\n",
       "    .dataframe tbody tr th {\n",
       "        vertical-align: top;\n",
       "    }\n",
       "\n",
       "    .dataframe thead th {\n",
       "        text-align: right;\n",
       "    }\n",
       "</style>\n",
       "<table border=\"1\" class=\"dataframe\">\n",
       "  <thead>\n",
       "    <tr style=\"text-align: right;\">\n",
       "      <th></th>\n",
       "      <th>Nodes</th>\n",
       "      <th>Edges</th>\n",
       "    </tr>\n",
       "  </thead>\n",
       "  <tbody>\n",
       "    <tr>\n",
       "      <th>Epinions</th>\n",
       "      <td>131580</td>\n",
       "      <td>840799</td>\n",
       "    </tr>\n",
       "    <tr>\n",
       "      <th>Slashdot</th>\n",
       "      <td>82140</td>\n",
       "      <td>549202</td>\n",
       "    </tr>\n",
       "    <tr>\n",
       "      <th>Wikipedia</th>\n",
       "      <td>7115</td>\n",
       "      <td>103689</td>\n",
       "    </tr>\n",
       "    <tr>\n",
       "      <th>Reddit</th>\n",
       "      <td>67180</td>\n",
       "      <td>339643</td>\n",
       "    </tr>\n",
       "  </tbody>\n",
       "</table>\n",
       "</div>"
      ],
      "text/plain": [
       "            Nodes   Edges\n",
       "Epinions   131580  840799\n",
       "Slashdot    82140  549202\n",
       "Wikipedia    7115  103689\n",
       "Reddit      67180  339643"
      ]
     },
     "execution_count": 14,
     "metadata": {},
     "output_type": "execute_result"
    }
   ],
   "source": [
    "def calculate_nb_edges(dataset):\n",
    "    # Calculate the number of unique links. The weight of the connection is not considered.\n",
    "    return len(np.unique(dataset.to_numpy()[:,:2],axis=0))\n",
    "\n",
    "dataset_statistics['Edges'] = [calculate_nb_edges(dataset) for dataset in datasets.values()]\n",
    "dataset_statistics"
   ]
  },
  {
   "cell_type": "markdown",
   "metadata": {},
   "source": [
    "#### Fraction of positive and negative edges <a class=\"anchor\" id=\"fractions\"></a>\n",
    "\n",
    "Now, the fraction of positive and negative *Signs* of the edges is calculated."
   ]
  },
  {
   "cell_type": "code",
   "execution_count": 15,
   "metadata": {},
   "outputs": [
    {
     "data": {
      "text/html": [
       "<div>\n",
       "<style scoped>\n",
       "    .dataframe tbody tr th:only-of-type {\n",
       "        vertical-align: middle;\n",
       "    }\n",
       "\n",
       "    .dataframe tbody tr th {\n",
       "        vertical-align: top;\n",
       "    }\n",
       "\n",
       "    .dataframe thead th {\n",
       "        text-align: right;\n",
       "    }\n",
       "</style>\n",
       "<table border=\"1\" class=\"dataframe\">\n",
       "  <thead>\n",
       "    <tr style=\"text-align: right;\">\n",
       "      <th></th>\n",
       "      <th>Nodes</th>\n",
       "      <th>Edges</th>\n",
       "      <th>+ edges</th>\n",
       "      <th>- edges</th>\n",
       "    </tr>\n",
       "  </thead>\n",
       "  <tbody>\n",
       "    <tr>\n",
       "      <th>Epinions</th>\n",
       "      <td>131580</td>\n",
       "      <td>840799</td>\n",
       "      <td>0.853</td>\n",
       "      <td>0.147</td>\n",
       "    </tr>\n",
       "    <tr>\n",
       "      <th>Slashdot</th>\n",
       "      <td>82140</td>\n",
       "      <td>549202</td>\n",
       "      <td>0.774</td>\n",
       "      <td>0.226</td>\n",
       "    </tr>\n",
       "    <tr>\n",
       "      <th>Wikipedia</th>\n",
       "      <td>7115</td>\n",
       "      <td>103689</td>\n",
       "      <td>0.788</td>\n",
       "      <td>0.212</td>\n",
       "    </tr>\n",
       "    <tr>\n",
       "      <th>Reddit</th>\n",
       "      <td>67180</td>\n",
       "      <td>339643</td>\n",
       "      <td>0.925</td>\n",
       "      <td>0.075</td>\n",
       "    </tr>\n",
       "  </tbody>\n",
       "</table>\n",
       "</div>"
      ],
      "text/plain": [
       "            Nodes   Edges  + edges  - edges\n",
       "Epinions   131580  840799    0.853    0.147\n",
       "Slashdot    82140  549202    0.774    0.226\n",
       "Wikipedia    7115  103689    0.788    0.212\n",
       "Reddit      67180  339643    0.925    0.075"
      ]
     },
     "execution_count": 15,
     "metadata": {},
     "output_type": "execute_result"
    }
   ],
   "source": [
    "# count positive and negative edges\n",
    "dataset_statistics['+ edges'] = [np.count_nonzero(dataset['Sign'] == +1) for dataset in datasets.values()]\n",
    "dataset_statistics['- edges'] = [np.count_nonzero(dataset['Sign'] == -1) for dataset in datasets.values()]\n",
    "# divide total number of edges\n",
    "dataset_statistics[['+ edges','- edges']] = \\\n",
    "                        dataset_statistics[['+ edges','- edges']].div(dataset_statistics.Edges, axis='index')\n",
    "dataset_statistics"
   ]
  },
  {
   "cell_type": "markdown",
   "metadata": {},
   "source": [
    "#### Triads <a class=\"anchor\" id=\"triads\"></a>\n",
    "\n",
    "Counting the number of triads is somewhat more challenging. The function bellow does so by first calculating the list of neighbors for each node. Then it iterates through all nodes. For each of them it looks up its neighbors and the neighbors of each neighbor. Then it counts the number of nodes that are both neighbor and neighbor's neighbor to the original node - another definition of a triad. This yields *six* times the numbers of triads. For each node, the number of triads it participates in is counted *twice* since being a neighbor is a bidirectional connection. And the same triad is counted once for all *three* nodes that participate in it."
   ]
  },
  {
   "cell_type": "code",
   "execution_count": 16,
   "metadata": {},
   "outputs": [],
   "source": [
    "def get_nb_triads(dataset):\n",
    "    \"\"\"This function calculates the number of triads in a dataset\"\"\"\n",
    "    \n",
    "    # extracting edges from dataset\n",
    "    edges=dataset.to_numpy()[:,:2]\n",
    "    # remove non-unique edges - see discussion on edge count\n",
    "    edges=np.unique(edges,axis=0)\n",
    "    # remove edges of nodes with themselves\n",
    "    edges=edges[edges[:,0]!=edges[:,1]]\n",
    "    \n",
    "    # listing neighbors for each node\n",
    "    neighbors = [[] for i in range(np.max(edges)+1)]\n",
    "    for [u,v] in edges:\n",
    "        neighbors[u]+=[v]\n",
    "        neighbors[v]+=[u]\n",
    "    \n",
    "    # iterating through nodes and counting nodes that are both neighbor and neighbor's neighbor to original node\n",
    "    triads = 0    \n",
    "    nodes = np.unique(edges.flatten())\n",
    "    for node in nodes:\n",
    "        neighbors_node = neighbors[node]\n",
    "        neighbors_neighbours = np.concatenate([neighbors[neighbor] for neighbor in neighbors_node])\n",
    "        triads+=sum([np.count_nonzero(neighbors_neighbours==neighbor) for neighbor in neighbors_node])\n",
    "    # correcting for overcounting\n",
    "    assert triads%6 == 0\n",
    "    return triads//6"
   ]
  },
  {
   "cell_type": "markdown",
   "metadata": {},
   "source": [
    "Although this is an efficient way of calculating the number of triads, it still takes a few minutes to do so. Ideally, the result is therefore stored to file. If such an output file exists, the result is read from there. Otherwise, the triads are counted and the result gets stored."
   ]
  },
  {
   "cell_type": "code",
   "execution_count": 17,
   "metadata": {},
   "outputs": [],
   "source": [
    "PATH_TRIAD_COUNT = PATH_OUTPUT_FOLDER + \"triad_count.npy\""
   ]
  },
  {
   "cell_type": "raw",
   "metadata": {},
   "source": [
    "### This cell is commented, since it takes a few minutes to run it. If uncommented, the triad count is performed. ###\n",
    "# Calculating the number of triads for each network and saving the result to file.\n",
    "np.save(PATH_TRIAD_COUNT,[int(get_nb_triads(dataset)) for dataset in datasets.values()])"
   ]
  },
  {
   "cell_type": "code",
   "execution_count": 18,
   "metadata": {},
   "outputs": [
    {
     "data": {
      "text/html": [
       "<div>\n",
       "<style scoped>\n",
       "    .dataframe tbody tr th:only-of-type {\n",
       "        vertical-align: middle;\n",
       "    }\n",
       "\n",
       "    .dataframe tbody tr th {\n",
       "        vertical-align: top;\n",
       "    }\n",
       "\n",
       "    .dataframe thead th {\n",
       "        text-align: right;\n",
       "    }\n",
       "</style>\n",
       "<table border=\"1\" class=\"dataframe\">\n",
       "  <thead>\n",
       "    <tr style=\"text-align: right;\">\n",
       "      <th></th>\n",
       "      <th>Nodes</th>\n",
       "      <th>Edges</th>\n",
       "      <th>+ edges</th>\n",
       "      <th>- edges</th>\n",
       "      <th>Triads</th>\n",
       "    </tr>\n",
       "  </thead>\n",
       "  <tbody>\n",
       "    <tr>\n",
       "      <th>Epinions</th>\n",
       "      <td>131580</td>\n",
       "      <td>840799</td>\n",
       "      <td>0.853</td>\n",
       "      <td>0.147</td>\n",
       "      <td>13317672</td>\n",
       "    </tr>\n",
       "    <tr>\n",
       "      <th>Slashdot</th>\n",
       "      <td>82140</td>\n",
       "      <td>549202</td>\n",
       "      <td>0.774</td>\n",
       "      <td>0.226</td>\n",
       "      <td>1508105</td>\n",
       "    </tr>\n",
       "    <tr>\n",
       "      <th>Wikipedia</th>\n",
       "      <td>7115</td>\n",
       "      <td>103689</td>\n",
       "      <td>0.788</td>\n",
       "      <td>0.212</td>\n",
       "      <td>790532</td>\n",
       "    </tr>\n",
       "    <tr>\n",
       "      <th>Reddit</th>\n",
       "      <td>67180</td>\n",
       "      <td>339643</td>\n",
       "      <td>0.925</td>\n",
       "      <td>0.075</td>\n",
       "      <td>4077337</td>\n",
       "    </tr>\n",
       "  </tbody>\n",
       "</table>\n",
       "</div>"
      ],
      "text/plain": [
       "            Nodes   Edges  + edges  - edges    Triads\n",
       "Epinions   131580  840799    0.853    0.147  13317672\n",
       "Slashdot    82140  549202    0.774    0.226   1508105\n",
       "Wikipedia    7115  103689    0.788    0.212    790532\n",
       "Reddit      67180  339643    0.925    0.075   4077337"
      ]
     },
     "execution_count": 18,
     "metadata": {},
     "output_type": "execute_result"
    }
   ],
   "source": [
    "# If the output file exists, the result is read from there.\n",
    "if os.path.isfile(PATH_TRIAD_COUNT): \n",
    "    dataset_statistics['Triads'] = np.load(PATH_TRIAD_COUNT)\n",
    "else:\n",
    "    dataset_statistics['Triads'] = [int(get_nb_triads(dataset)) for dataset in datasets.values()]\n",
    "    np.save(PATH_TRIAD_COUNT,dataset_statistics['Triads'].to_numpy())\n",
    "dataset_statistics"
   ]
  },
  {
   "cell_type": "markdown",
   "metadata": {},
   "source": [
    "### Triad statistics <a class=\"anchor\" id=\"triadStatistics\"></a>\n",
    "\n",
    "In the following, the analysis to generate [Table 3](#table3) as in milestone P4 is performed on all datasets."
   ]
  },
  {
   "cell_type": "markdown",
   "metadata": {},
   "source": [
    "<a id='table1'></a>"
   ]
  },
  {
   "cell_type": "code",
   "execution_count": 19,
   "metadata": {},
   "outputs": [
    {
     "data": {
      "image/jpeg": "[encoded data removed]",
      "text/plain": [
       "<IPython.core.display.Image object>"
      ]
     },
     "execution_count": 19,
     "metadata": {
      "image/jpeg": {
       "height": 300,
       "width": 400
      }
     },
     "output_type": "execute_result"
    }
   ],
   "source": [
    "Image('./images/table3.jpg', width=400,height=300)"
   ]
  },
  {
   "cell_type": "markdown",
   "metadata": {},
   "source": [
    "#### |$T_i$| <a class=\"anchor\" id=\"T_i\"></a>"
   ]
  },
  {
   "cell_type": "markdown",
   "metadata": {},
   "source": [
    "For replicating *Table 1*, I already wrote a function, which counts the number of triads in a given network. Here, I need to keep track of the signs of the edges that make up those triads as well. The function bellow is an adapted version of the previous triad count function that does so.\n",
    "\n",
    "First, it again generates the list of neighbors for each node. In addition, a list of the signs of the corresponding edges is created (-1s are stored as 0s to facilitate keeping track of the number of positive edges in a triad). The function then iterates through all nodes. For each of them it looks up its neighbors and the neighbors of each neighbor. It also counts the number of positive edges out of two edges for each triplet *node-neighbor-neighbor's neighbor*. Finally, for all nodes that are both neighbor and neighbor's neighbor to the original node, it computes the number of positive edges in this corresponding triad. This yields again *six* times the count for each triad type. For each node, the number of triads it participates in is counted *twice* since being a neighbor is a bidirectional connection. And the same triad is counted once for all *three* nodes that participate in it."
   ]
  },
  {
   "cell_type": "code",
   "execution_count": 20,
   "metadata": {},
   "outputs": [],
   "source": [
    "from collections import Counter\n",
    "\n",
    "def get_nb_triads_by_type(dataset):\n",
    "    \"\"\"This function calculates the number of triads in a dataset\"\"\"\n",
    "    \n",
    "    # remove non-unique edges - see discussion on edge count and convert to numpy\n",
    "    edges = dataset.drop_duplicates(subset=['FromNodeId', 'ToNodeId'], keep='last').to_numpy()\n",
    "    # remove edges of nodes with themselves\n",
    "    edges=edges[edges[:,0]!=edges[:,1]]\n",
    "\n",
    "    # listing neighbors for each node and the signs of the corresonding connections\n",
    "    neighbors = [[] for i in range(np.max(edges)+1)]\n",
    "    signs = [[] for i in range(np.max(edges)+1)]\n",
    "\n",
    "    for [u,v,s] in edges:\n",
    "        neighbors[u]+=[v]\n",
    "        neighbors[v]+=[u]\n",
    "        signs[u]+=[max(0,s)]\n",
    "        signs[v]+=[max(0,s)]\n",
    "    \n",
    "    \n",
    "    # iterating through nodes and for each node that is both neighbor and neighbor's neighbor to original node \n",
    "    # counting incrementing the count of the corresponding triad type\n",
    "    triad_counter = Counter() \n",
    "    nodes = np.unique(edges[:,:2].flatten())\n",
    "    \n",
    "    with progressbar.ProgressBar(max_value=nodes.shape[0]) as bar:\n",
    "        for node in nodes:\n",
    "            neighbors_node, signs_node = neighbors[node],signs[node]\n",
    "            neighbors_neighbours = np.concatenate([neighbors[neighbor] for neighbor in neighbors_node])\n",
    "            neighbors_signs = np.concatenate([np.array(signs[neighbor])+sign \\\n",
    "                                              for (neighbor,sign) in zip(neighbors_node,signs_node)])\n",
    "            for (neighbor,sign) in zip(neighbors_node,signs_node):\n",
    "                triad_counter+=Counter(neighbors_signs[neighbors_neighbours==neighbor]+sign)\n",
    "        # converting to dataframe and correcting for overcounting\n",
    "        triad_counter = pd.DataFrame.from_dict(triad_counter, orient='index',columns=['|T_i|'])//6\n",
    "        triad_counter.index.name = '#+edges'\n",
    "    return triad_counter"
   ]
  },
  {
   "cell_type": "code",
   "execution_count": 21,
   "metadata": {},
   "outputs": [],
   "source": [
    "PATH_TRIAD_COUNT_BY_TYPE = PATH_OUTPUT_FOLDER + \"triad_count_by_type_\""
   ]
  },
  {
   "cell_type": "raw",
   "metadata": {},
   "source": [
    "## The cell is commented, as it takes a fey minutes to run it. If uncommented, the triad count is performed. ##\n",
    "# Calculating the number of triads for each network and saving the result to file.\n",
    "for key, dataset in datasets.items():\n",
    "    get_nb_triads_by_type(dataset).to_pickle(PATH_TRIAD_COUNT_BY_TYPE+key+\".pkl\")"
   ]
  },
  {
   "cell_type": "code",
   "execution_count": 22,
   "metadata": {},
   "outputs": [
    {
     "name": "stdout",
     "output_type": "stream",
     "text": [
      "Epinions :\n",
      "             |T_i|\n",
      "#+edges          \n",
      "3        11616708\n",
      "1          688557\n",
      "2          924739\n",
      "0           87668\n",
      "\n",
      "Slashdot :\n",
      "            |T_i|\n",
      "#+edges         \n",
      "3        1266646\n",
      "1         115884\n",
      "2         109303\n",
      "0          16272\n",
      "\n",
      "Wikipedia :\n",
      "           |T_i|\n",
      "#+edges        \n",
      "3        555300\n",
      "1         63425\n",
      "2        163328\n",
      "0          8479\n",
      "\n",
      "Reddit :\n",
      "            |T_i|\n",
      "#+edges         \n",
      "3        2841801\n",
      "2        1023576\n",
      "1         197192\n",
      "0          14768\n",
      "\n"
     ]
    }
   ],
   "source": [
    "# If the output file exists, the result is read from there.\n",
    "triad_statistics = dict()\n",
    "for key, dataset in datasets.items():\n",
    "    if os.path.isfile(PATH_TRIAD_COUNT_BY_TYPE+key+\".pkl\"):\n",
    "        triad_statistics[key] = pd.read_pickle(PATH_TRIAD_COUNT_BY_TYPE+key+\".pkl\")\n",
    "    else:\n",
    "        triad_statistics[key] = get_nb_triads_by_type(dataset)\n",
    "        triad_statistics[key].to_pickle(PATH_TRIAD_COUNT_BY_TYPE+key+\".pkl\")\n",
    "    # print triad count by type\n",
    "    print(key+\" :\\n\", triad_statistics[key], end=\"\\n\\n\")"
   ]
  },
  {
   "cell_type": "markdown",
   "metadata": {},
   "source": [
    "I introduce a DataFrame that stores features of datasets such as the number of triads per dataset. A quick sanity check shows that I get the same counts as above."
   ]
  },
  {
   "cell_type": "code",
   "execution_count": 23,
   "metadata": {},
   "outputs": [
    {
     "data": {
      "text/html": [
       "<div>\n",
       "<style scoped>\n",
       "    .dataframe tbody tr th:only-of-type {\n",
       "        vertical-align: middle;\n",
       "    }\n",
       "\n",
       "    .dataframe tbody tr th {\n",
       "        vertical-align: top;\n",
       "    }\n",
       "\n",
       "    .dataframe thead th {\n",
       "        text-align: right;\n",
       "    }\n",
       "</style>\n",
       "<table border=\"1\" class=\"dataframe\">\n",
       "  <thead>\n",
       "    <tr style=\"text-align: right;\">\n",
       "      <th></th>\n",
       "      <th>#Triads</th>\n",
       "    </tr>\n",
       "  </thead>\n",
       "  <tbody>\n",
       "    <tr>\n",
       "      <th>Epinions</th>\n",
       "      <td>13317672</td>\n",
       "    </tr>\n",
       "    <tr>\n",
       "      <th>Slashdot</th>\n",
       "      <td>1508105</td>\n",
       "    </tr>\n",
       "    <tr>\n",
       "      <th>Wikipedia</th>\n",
       "      <td>790532</td>\n",
       "    </tr>\n",
       "    <tr>\n",
       "      <th>Reddit</th>\n",
       "      <td>4077337</td>\n",
       "    </tr>\n",
       "  </tbody>\n",
       "</table>\n",
       "</div>"
      ],
      "text/plain": [
       "            #Triads\n",
       "Epinions   13317672\n",
       "Slashdot    1508105\n",
       "Wikipedia    790532\n",
       "Reddit      4077337"
      ]
     },
     "execution_count": 23,
     "metadata": {},
     "output_type": "execute_result"
    }
   ],
   "source": [
    "datasets_features = pd.DataFrame([sum(table['|T_i|']) for table in triad_statistics.values()],index=datasets.keys(),\n",
    "                               columns=['#Triads'])\n",
    "# Check that I get the same total number of triads as before\n",
    "pd.testing.assert_series_equal(dataset_statistics['Triads'],datasets_features['#Triads'],\n",
    "                               check_dtype=False,check_names=False)\n",
    "datasets_features"
   ]
  },
  {
   "cell_type": "markdown",
   "metadata": {},
   "source": [
    "#### $p(T_i)$ <a class=\"anchor\" id=\"p(T_i)\"></a>\n",
    "\n",
    "The next column contains the fraction of triads of type $T_i$. It is a simple division of the number of triads for each type by the total number of triads in a given network."
   ]
  },
  {
   "cell_type": "code",
   "execution_count": 24,
   "metadata": {},
   "outputs": [
    {
     "name": "stdout",
     "output_type": "stream",
     "text": [
      "Epinions :\n",
      "             |T_i|  p(T_i)\n",
      "#+edges                  \n",
      "3        11616708   0.872\n",
      "1          688557   0.052\n",
      "2          924739   0.069\n",
      "0           87668   0.007\n",
      "\n",
      "Slashdot :\n",
      "            |T_i|  p(T_i)\n",
      "#+edges                 \n",
      "3        1266646   0.840\n",
      "1         115884   0.077\n",
      "2         109303   0.072\n",
      "0          16272   0.011\n",
      "\n",
      "Wikipedia :\n",
      "           |T_i|  p(T_i)\n",
      "#+edges                \n",
      "3        555300   0.702\n",
      "1         63425   0.080\n",
      "2        163328   0.207\n",
      "0          8479   0.011\n",
      "\n",
      "Reddit :\n",
      "            |T_i|  p(T_i)\n",
      "#+edges                 \n",
      "3        2841801   0.697\n",
      "2        1023576   0.251\n",
      "1         197192   0.048\n",
      "0          14768   0.004\n",
      "\n"
     ]
    }
   ],
   "source": [
    "for (key, table),nb_triads in zip(triad_statistics.items(),datasets_features['#Triads']):\n",
    "    table['p(T_i)'] = table['|T_i|']/nb_triads\n",
    "    print(key+\" :\\n\",table,end=\"\\n\\n\")"
   ]
  },
  {
   "cell_type": "markdown",
   "metadata": {},
   "source": [
    "#### $p_0(T_i)$ <a class=\"anchor\" id=\"p_0(T_i)\"></a>\n",
    "\n",
    "For the calculation of the *a priori probability of $T_i$*, I need to know the fraction of of positive edges in the network $p$. This was already calculated in milestone P2 and can be recycled here."
   ]
  },
  {
   "cell_type": "code",
   "execution_count": 25,
   "metadata": {},
   "outputs": [
    {
     "data": {
      "text/html": [
       "<div>\n",
       "<style scoped>\n",
       "    .dataframe tbody tr th:only-of-type {\n",
       "        vertical-align: middle;\n",
       "    }\n",
       "\n",
       "    .dataframe tbody tr th {\n",
       "        vertical-align: top;\n",
       "    }\n",
       "\n",
       "    .dataframe thead th {\n",
       "        text-align: right;\n",
       "    }\n",
       "</style>\n",
       "<table border=\"1\" class=\"dataframe\">\n",
       "  <thead>\n",
       "    <tr style=\"text-align: right;\">\n",
       "      <th></th>\n",
       "      <th>#Triads</th>\n",
       "      <th>p</th>\n",
       "    </tr>\n",
       "  </thead>\n",
       "  <tbody>\n",
       "    <tr>\n",
       "      <th>Epinions</th>\n",
       "      <td>13317672</td>\n",
       "      <td>0.853</td>\n",
       "    </tr>\n",
       "    <tr>\n",
       "      <th>Slashdot</th>\n",
       "      <td>1508105</td>\n",
       "      <td>0.774</td>\n",
       "    </tr>\n",
       "    <tr>\n",
       "      <th>Wikipedia</th>\n",
       "      <td>790532</td>\n",
       "      <td>0.788</td>\n",
       "    </tr>\n",
       "    <tr>\n",
       "      <th>Reddit</th>\n",
       "      <td>4077337</td>\n",
       "      <td>0.925</td>\n",
       "    </tr>\n",
       "  </tbody>\n",
       "</table>\n",
       "</div>"
      ],
      "text/plain": [
       "            #Triads     p\n",
       "Epinions   13317672 0.853\n",
       "Slashdot    1508105 0.774\n",
       "Wikipedia    790532 0.788\n",
       "Reddit      4077337 0.925"
      ]
     },
     "execution_count": 25,
     "metadata": {},
     "output_type": "execute_result"
    }
   ],
   "source": [
    "def calculate_frac_pos_edges(dataset):\n",
    "    # Calculate the number of unique links. The weight of the connection is not considered.\n",
    "    unique_edges = dataset.drop_duplicates(subset=['FromNodeId', 'ToNodeId'],keep='last')\n",
    "    return np.count_nonzero(unique_edges['Sign'] == +1)/len(unique_edges)\n",
    "\n",
    "datasets_features['p'] = [calculate_frac_pos_edges(dataset) for dataset in datasets.values()]\n",
    "datasets_features"
   ]
  },
  {
   "cell_type": "markdown",
   "metadata": {},
   "source": [
    "The *a priori* probability of $T_i$ based on sign distribution, $p_0(T_i)$, is given by a binomial distribution:\n",
    "$$p_0(T_i)   = {n \\choose k} p^k (1-p)^{ n-k}$$\n",
    ", where $n=3$ is the number of edges per triad, $k$ is the number of positive edges in the given triad type, and $p$ is the fraction of positive edges in the entire network, which is asumed to be the *a priori* probability that an edge is positive."
   ]
  },
  {
   "cell_type": "code",
   "execution_count": 26,
   "metadata": {},
   "outputs": [
    {
     "name": "stdout",
     "output_type": "stream",
     "text": [
      "Epinions :\n",
      "             |T_i|  p(T_i)  p0(T_i)\n",
      "#+edges                           \n",
      "3        11616708   0.872    0.620\n",
      "1          688557   0.052    0.055\n",
      "2          924739   0.069    0.321\n",
      "0           87668   0.007    0.003\n",
      "\n",
      "Slashdot :\n",
      "            |T_i|  p(T_i)  p0(T_i)\n",
      "#+edges                          \n",
      "3        1266646   0.840    0.464\n",
      "1         115884   0.077    0.119\n",
      "2         109303   0.072    0.406\n",
      "0          16272   0.011    0.012\n",
      "\n",
      "Wikipedia :\n",
      "           |T_i|  p(T_i)  p0(T_i)\n",
      "#+edges                         \n",
      "3        555300   0.702    0.489\n",
      "1         63425   0.080    0.106\n",
      "2        163328   0.207    0.395\n",
      "0          8479   0.011    0.010\n",
      "\n",
      "Reddit :\n",
      "            |T_i|  p(T_i)  p0(T_i)\n",
      "#+edges                          \n",
      "3        2841801   0.697    0.791\n",
      "2        1023576   0.251    0.193\n",
      "1         197192   0.048    0.016\n",
      "0          14768   0.004    0.000\n",
      "\n"
     ]
    }
   ],
   "source": [
    "from scipy.stats import binom\n",
    "for (key, table),p in zip(triad_statistics.items(),datasets_features['p']):\n",
    "    table['p0(T_i)'] = binom.pmf(table.index.get_level_values('#+edges'), 3, p)\n",
    "    print(key+\" :\\n\",table,end=\"\\n\\n\")"
   ]
  },
  {
   "cell_type": "markdown",
   "metadata": {},
   "source": [
    "#### $s(T_i)$ <a class=\"anchor\" id=\"s(T_i)\"></a>\n",
    "\n",
    "The surprise, $s(T_i)$, of finding a number, $|T_i|$, of a given triad type, $T_i$, is given by the following formula:\n",
    "$$s(T_i)=\\frac{|T_i|-E[|T_i|]}{\\sqrt{\\Delta p_0(T_i)(1-p_0(T_i))}}$$"
   ]
  },
  {
   "cell_type": "code",
   "execution_count": 27,
   "metadata": {},
   "outputs": [
    {
     "name": "stdout",
     "output_type": "stream",
     "text": [
      "Epinions :\n",
      "             |T_i|  p(T_i)  p0(T_i)     s(T_i)\n",
      "#+edges                                      \n",
      "3        11616708   0.872    0.620  1,893.701\n",
      "1          688557   0.052    0.055    -58.317\n",
      "2          924739   0.069    0.321 -1,966.401\n",
      "0           87668   0.007    0.003    220.352\n",
      "\n",
      "Slashdot :\n",
      "            |T_i|  p(T_i)  p0(T_i)   s(T_i)\n",
      "#+edges                                   \n",
      "3        1266646   0.840    0.464  926.538\n",
      "1         115884   0.077    0.119 -158.663\n",
      "2         109303   0.072    0.406 -834.445\n",
      "0          16272   0.011    0.012   -8.695\n",
      "\n",
      "Wikipedia :\n",
      "           |T_i|  p(T_i)  p0(T_i)   s(T_i)\n",
      "#+edges                                  \n",
      "3        555300   0.702    0.489  379.153\n",
      "1         63425   0.080    0.106  -75.108\n",
      "2        163328   0.207    0.395 -342.545\n",
      "0          8479   0.011    0.010   10.936\n",
      "\n",
      "Reddit :\n",
      "            |T_i|  p(T_i)  p0(T_i)   s(T_i)\n",
      "#+edges                                   \n",
      "3        2841801   0.697    0.791 -469.323\n",
      "2        1023576   0.251    0.193  299.519\n",
      "1         197192   0.048    0.016  533.319\n",
      "0          14768   0.004    0.000  314.532\n",
      "\n"
     ]
    }
   ],
   "source": [
    "for (key, table),nb_triads in zip(triad_statistics.items(),datasets_features['#Triads']):\n",
    "    table['s(T_i)']=(table['|T_i|']-table['p0(T_i)']*nb_triads)\\\n",
    "                    /np.sqrt(nb_triads*table['p0(T_i)']*(1-table['p0(T_i)']))\n",
    "    print(key+\" :\\n\",table,end=\"\\n\\n\")"
   ]
  },
  {
   "cell_type": "code",
   "execution_count": 28,
   "metadata": {},
   "outputs": [],
   "source": [
    "from tabulate import tabulate\n",
    "\n",
    "def pretty_print(table):\n",
    "    ''' This function generates a pretty print for our results '''\n",
    "    \n",
    "    for key in table:\n",
    "        if key == 'Reddit':\n",
    "            new_index = [3, 1, 2, 0]\n",
    "            table[key] = table[key].reindex(new_index)\n",
    "        table[key] = table[key].rename(index={3: 'T₃', 1: 'T₁', 2: 'T₂', 0: 'T₀'})\n",
    "        table[key] = table[key].rename(columns = {'#+edges ':'', '|T_i|':'|Tᵢ|', 'p(T_i)': 'p(Tᵢ)', 'p0(T_i)': 'p₀(Tᵢ)',\n",
    "                                                  's(T_i)' : 's(Tᵢ)'})\n",
    "\n",
    "    \n",
    "    df_names = ['Epinions', 'Slashdot', 'Wikipedia', 'Reddit']\n",
    "\n",
    "    print('\\033[1m'+'\\t\\tPaper table 3 - reproduced.\\n')\n",
    "    print ('\\033[0m')\n",
    "\n",
    "    for key in table:\n",
    "        print('\\t\\t\\t\\033[1m' + key + '\\033[0m')\n",
    "        print(tabulate(table[key], headers = 'keys', tablefmt=\"fancy_grid\", numalign=\"right\", \n",
    "                       floatfmt=(None,'.0f','.3f','.3f','.1f')))\n",
    "        print('\\n')"
   ]
  },
  {
   "cell_type": "code",
   "execution_count": 29,
   "metadata": {},
   "outputs": [
    {
     "name": "stdout",
     "output_type": "stream",
     "text": [
      "\u001b[1m\t\tPaper table 3 - reproduced.\n",
      "\n",
      "\u001b[0m\n",
      "\t\t\t\u001b[1mEpinions\u001b[0m\n",
      "╒═══════════╤══════════╤═════════╤══════════╤═════════╕\n",
      "│ #+edges   │     |Tᵢ| │   p(Tᵢ) │   p₀(Tᵢ) │   s(Tᵢ) │\n",
      "╞═══════════╪══════════╪═════════╪══════════╪═════════╡\n",
      "│ T₃        │ 11616708 │   0.872 │    0.620 │  1893.7 │\n",
      "├───────────┼──────────┼─────────┼──────────┼─────────┤\n",
      "│ T₁        │   688557 │   0.052 │    0.055 │   -58.3 │\n",
      "├───────────┼──────────┼─────────┼──────────┼─────────┤\n",
      "│ T₂        │   924739 │   0.069 │    0.321 │ -1966.4 │\n",
      "├───────────┼──────────┼─────────┼──────────┼─────────┤\n",
      "│ T₀        │    87668 │   0.007 │    0.003 │   220.4 │\n",
      "╘═══════════╧══════════╧═════════╧══════════╧═════════╛\n",
      "\n",
      "\n",
      "\t\t\t\u001b[1mSlashdot\u001b[0m\n",
      "╒═══════════╤═════════╤═════════╤══════════╤═════════╕\n",
      "│ #+edges   │    |Tᵢ| │   p(Tᵢ) │   p₀(Tᵢ) │   s(Tᵢ) │\n",
      "╞═══════════╪═════════╪═════════╪══════════╪═════════╡\n",
      "│ T₃        │ 1266646 │   0.840 │    0.464 │   926.5 │\n",
      "├───────────┼─────────┼─────────┼──────────┼─────────┤\n",
      "│ T₁        │  115884 │   0.077 │    0.119 │  -158.7 │\n",
      "├───────────┼─────────┼─────────┼──────────┼─────────┤\n",
      "│ T₂        │  109303 │   0.072 │    0.406 │  -834.4 │\n",
      "├───────────┼─────────┼─────────┼──────────┼─────────┤\n",
      "│ T₀        │   16272 │   0.011 │    0.012 │    -8.7 │\n",
      "╘═══════════╧═════════╧═════════╧══════════╧═════════╛\n",
      "\n",
      "\n",
      "\t\t\t\u001b[1mWikipedia\u001b[0m\n",
      "╒═══════════╤════════╤═════════╤══════════╤═════════╕\n",
      "│ #+edges   │   |Tᵢ| │   p(Tᵢ) │   p₀(Tᵢ) │   s(Tᵢ) │\n",
      "╞═══════════╪════════╪═════════╪══════════╪═════════╡\n",
      "│ T₃        │ 555300 │   0.702 │    0.489 │   379.2 │\n",
      "├───────────┼────────┼─────────┼──────────┼─────────┤\n",
      "│ T₁        │  63425 │   0.080 │    0.106 │   -75.1 │\n",
      "├───────────┼────────┼─────────┼──────────┼─────────┤\n",
      "│ T₂        │ 163328 │   0.207 │    0.395 │  -342.5 │\n",
      "├───────────┼────────┼─────────┼──────────┼─────────┤\n",
      "│ T₀        │   8479 │   0.011 │    0.010 │    10.9 │\n",
      "╘═══════════╧════════╧═════════╧══════════╧═════════╛\n",
      "\n",
      "\n",
      "\t\t\t\u001b[1mReddit\u001b[0m\n",
      "╒═══════════╤═════════╤═════════╤══════════╤═════════╕\n",
      "│ #+edges   │    |Tᵢ| │   p(Tᵢ) │   p₀(Tᵢ) │   s(Tᵢ) │\n",
      "╞═══════════╪═════════╪═════════╪══════════╪═════════╡\n",
      "│ T₃        │ 2841801 │   0.697 │    0.791 │  -469.3 │\n",
      "├───────────┼─────────┼─────────┼──────────┼─────────┤\n",
      "│ T₁        │  197192 │   0.048 │    0.016 │   533.3 │\n",
      "├───────────┼─────────┼─────────┼──────────┼─────────┤\n",
      "│ T₂        │ 1023576 │   0.251 │    0.193 │   299.5 │\n",
      "├───────────┼─────────┼─────────┼──────────┼─────────┤\n",
      "│ T₀        │   14768 │   0.004 │    0.000 │   314.5 │\n",
      "╘═══════════╧═════════╧═════════╧══════════╧═════════╛\n",
      "\n",
      "\n"
     ]
    }
   ],
   "source": [
    "pretty_print(triad_statistics)"
   ]
  },
  {
   "cell_type": "markdown",
   "metadata": {},
   "source": [
    " "
   ]
  },
  {
   "cell_type": "markdown",
   "metadata": {},
   "source": [
    " "
   ]
  },
  {
   "cell_type": "markdown",
   "metadata": {},
   "source": [
    "## Analyze properties of the networks <a class=\"anchor\" id=\"properties\"></a>"
   ]
  },
  {
   "cell_type": "code",
   "execution_count": 30,
   "metadata": {},
   "outputs": [],
   "source": [
    "import networkx as nx\n",
    "from networkx.convert_matrix import from_pandas_edgelist\n",
    "from networkx.algorithms.approximation import clustering_coefficient\n",
    "from networkx import average_shortest_path_length\n",
    "import random\n",
    "import pickle\n",
    "\n",
    "def bootstrap_CI_mean(data, nbr_draws = 1000):\n",
    "    \"\"\" bootstrap_CI_mean returns a 95% CI of the mean of 'data'\n",
    "    data\n",
    "    nbr_draws: number of draws that should be performed to compute the bootstraped CI\n",
    "    \"\"\" \n",
    "    sample_size = len(data)\n",
    "    samples = data.sample(n = sample_size*nbr_draws, replace = True, random_state=0).values\\\n",
    "              .reshape((sample_size,nbr_draws))\n",
    "    means = np.mean(samples,axis=0)\n",
    "    return np.asarray([np.nanpercentile(means, 2.5),np.nanpercentile(means, 97.5)])\n",
    "\n",
    "# -------------------\n",
    "\n",
    "def compute_properties(datasets):\n",
    "    graphs = {}\n",
    "    for key in datasets:\n",
    "        G = nx.from_pandas_edgelist(datasets[key][['FromNodeId','ToNodeId']], source = 'FromNodeId', \n",
    "                                    target = 'ToNodeId')\n",
    "        graphs[key] = G\n",
    "        \n",
    "    properties = {}\n",
    "    for key in datasets:\n",
    "        properties[key] = {}\n",
    "\n",
    "    for key in graphs:\n",
    "        clustering = nx.clustering(graphs[key])\n",
    "        properties[key]['mean_clustering'] = np.array(list(clustering.values())).mean()\n",
    "        properties[key]['95%CI_clustering'] = bootstrap_CI_mean(pd.Series(list(clustering.values())))\n",
    "        \n",
    "    ccs = []\n",
    "    for key in graphs:\n",
    "        ccs_ = max(nx.connected_components(graphs[key]), key = len)\n",
    "        ccs.append([ccs_, len(ccs_)])\n",
    "    print('The fraction of connected components for each dataset are the following:')\n",
    "    print(np.array(ccs)[:,1]/dataset_statistics['Nodes']*100)\n",
    "    print('\\nSince three of our four graphs arent connected, we will compute the average shortest path length for the bigger connected components each time.\\n')\n",
    "    \n",
    "    sample_nb = 200\n",
    "\n",
    "    for idx, key in enumerate(graphs):\n",
    "        print(key)\n",
    "        random.seed(5)\n",
    "        sample = random.sample(range(0, len(ccs[idx][0])-1),sample_nb)\n",
    "        sources = list(ccs[idx][0])\n",
    "        biggest_graph = graphs[key].subgraph(ccs[idx][0]).copy()\n",
    "\n",
    "        with progressbar.ProgressBar(max_value=sample_nb) as bar:\n",
    "            aspl = []\n",
    "            for idx, samp in enumerate(sample):\n",
    "                aspl.append(np.array(list(nx.shortest_path_length(biggest_graph, source = sources[samp]).values())))\n",
    "                bar.update(idx+1)\n",
    "        properties[key]['mean_aspl'] = np.mean(np.concatenate(aspl, axis=0))\n",
    "        properties[key]['95%CI_aspl'] = bootstrap_CI_mean(pd.Series(np.concatenate( aspl, axis=0)), nbr_draws = 10)\n",
    "\n",
    "    return properties"
   ]
  },
  {
   "cell_type": "code",
   "execution_count": 31,
   "metadata": {},
   "outputs": [],
   "source": [
    "PATH_PROPERTIES = PATH_OUTPUT_FOLDER + \"properties.pickle\""
   ]
  },
  {
   "cell_type": "raw",
   "metadata": {},
   "source": [
    "### This cell is commented, since it takes a few minutes to run it. If uncommented, the triad count is performed. ###\n",
    "# Calculating the number of triads for each network and saving the result to file.\n",
    "properties = compute_properties(datasets)"
   ]
  },
  {
   "cell_type": "code",
   "execution_count": 32,
   "metadata": {},
   "outputs": [],
   "source": [
    "if os.path.isfile(PATH_PROPERTIES):\n",
    "    with open(PATH_PROPERTIES, 'rb') as f:\n",
    "        properties = pickle.load(f)\n",
    "else:\n",
    "    properties = compute_properties(datasets)"
   ]
  },
  {
   "cell_type": "code",
   "execution_count": 33,
   "metadata": {},
   "outputs": [],
   "source": [
    "clustering = []\n",
    "aspl = []\n",
    "\n",
    "for key in properties:\n",
    "    clustering.append([key, properties[key]['mean_clustering'], properties[key]['95%CI_clustering']])\n",
    "    aspl.append([key, properties[key]['mean_aspl'], properties[key]['95%CI_aspl']])"
   ]
  },
  {
   "cell_type": "code",
   "execution_count": 34,
   "metadata": {},
   "outputs": [],
   "source": [
    "def pretty_print_property(table, clustering = False):\n",
    "    ''' This function generates a pretty print for our results '''\n",
    "    if clustering:\n",
    "        table = table.rename(columns = {1:'Clustering coefficient', 2:'95% CI'})\n",
    "    else:\n",
    "        table = table.rename(columns = {1:'Average shortest path length', 2:'95% CI'})\n",
    "\n",
    "\n",
    "    print(tabulate(table, headers = 'keys', tablefmt=\"fancy_grid\", numalign=\"right\"))\n",
    "    print('\\n')"
   ]
  },
  {
   "cell_type": "code",
   "execution_count": 35,
   "metadata": {},
   "outputs": [],
   "source": [
    "clustering = pd.DataFrame(clustering).set_index(0)\n",
    "clustering.index.names = ['Dataset']\n",
    "aspl = pd.DataFrame(aspl).set_index(0)\n",
    "aspl.index.names = ['Dataset']"
   ]
  },
  {
   "cell_type": "code",
   "execution_count": 36,
   "metadata": {},
   "outputs": [
    {
     "name": "stdout",
     "output_type": "stream",
     "text": [
      "╒═══════════╤══════════════════════════╤═════════════════════════╕\n",
      "│ Dataset   │   Clustering coefficient │ 95% CI                  │\n",
      "╞═══════════╪══════════════════════════╪═════════════════════════╡\n",
      "│ Epinions  │                 0.128186 │ [0.12678899 0.12961191] │\n",
      "├───────────┼──────────────────────────┼─────────────────────────┤\n",
      "│ Slashdot  │                0.0587871 │ [0.05737831 0.0599923 ] │\n",
      "├───────────┼──────────────────────────┼─────────────────────────┤\n",
      "│ Wikipedia │                 0.140898 │ [0.13658216 0.14579731] │\n",
      "├───────────┼──────────────────────────┼─────────────────────────┤\n",
      "│ Reddit    │                 0.216967 │ [0.21445482 0.21957991] │\n",
      "╘═══════════╧══════════════════════════╧═════════════════════════╛\n",
      "\n",
      "\n",
      "╒═══════════╤════════════════════════════════╤═════════════════════════╕\n",
      "│ Dataset   │   Average shortest path length │ 95% CI                  │\n",
      "╞═══════════╪════════════════════════════════╪═════════════════════════╡\n",
      "│ Epinions  │                         4.1561 │ [4.15582352 4.15632318] │\n",
      "├───────────┼────────────────────────────────┼─────────────────────────┤\n",
      "│ Slashdot  │                        4.10082 │ [4.10053808 4.10117995] │\n",
      "├───────────┼────────────────────────────────┼─────────────────────────┤\n",
      "│ Wikipedia │                        3.22007 │ [3.21980751 3.22080647] │\n",
      "├───────────┼────────────────────────────────┼─────────────────────────┤\n",
      "│ Reddit    │                        3.66826 │ [3.66786572 3.66847888] │\n",
      "╘═══════════╧════════════════════════════════╧═════════════════════════╛\n",
      "\n",
      "\n"
     ]
    }
   ],
   "source": [
    "pretty_print_property(clustering, clustering = True)\n",
    "pretty_print_property(aspl)"
   ]
  },
  {
   "cell_type": "markdown",
   "metadata": {},
   "source": [
    "TO DO: maybe have a look at Graph Laplacian"
   ]
  },
  {
   "cell_type": "markdown",
   "metadata": {},
   "source": [
    " "
   ]
  },
  {
   "cell_type": "markdown",
   "metadata": {},
   "source": [
    "## Visualization of the \"preference profiles\" of users <a class=\"anchor\" id=\"SVD-PCA\"></a>"
   ]
  },
  {
   "cell_type": "markdown",
   "metadata": {},
   "source": [
    "### Matrix generation <a class=\"anchor\" id=\"matrixgeneration\"></a>"
   ]
  },
  {
   "cell_type": "markdown",
   "metadata": {},
   "source": [
    "In a first time, we have to build matrices from which we will be able to perform SVD. Each row corresponds to an\n",
    "individual, each column corresponds to the link they receive from other individuals. The 'weight' corresponds to the sum of edges signs between the two individuals"
   ]
  },
  {
   "cell_type": "code",
   "execution_count": 37,
   "metadata": {},
   "outputs": [],
   "source": [
    "# Reload the data in case they have been modified\n",
    "data_epinions = pd.read_table(PATH_TO_DATA+filename_epinions, \n",
    "                              names=[\"FromNodeId\", \"ToNodeId\", \"Sign\"], comment='#')\n",
    "data_slashdot = pd.read_table(PATH_TO_DATA+filename_slashdot, \n",
    "                              names=[\"FromNodeId\", \"ToNodeId\", \"Sign\"], comment='#')\n",
    "data_wikipedia = pd.read_table(PATH_TO_DATA+filename_wikipedia)\n",
    "data_reddit = pd.concat(   [pd.read_table(PATH_TO_DATA+file, header=0,usecols=[0,1,4],\n",
    "                                          names=[\"FromNodeId\",\"ToNodeId\",\"Sign\"]) \n",
    "                                                        for file in filenames_reddit], ignore_index=True)\n",
    "IDs, unique_usernames = pd.factorize(data_reddit[[\"FromNodeId\",\"ToNodeId\"]].values.flatten())\n",
    "data_reddit[[\"FromNodeId\",\"ToNodeId\"]] = IDs.reshape(-1,2)\n",
    "datasets = [data_epinions, data_slashdot, data_wikipedia, data_reddit]"
   ]
  },
  {
   "cell_type": "code",
   "execution_count": 38,
   "metadata": {},
   "outputs": [],
   "source": [
    "from scipy.sparse import lil_matrix, csr_matrix\n",
    "from sklearn.decomposition import TruncatedSVD\n",
    "\n",
    "# ----------\n",
    "\n",
    "def fill_matrix_for_row(row, matrix):\n",
    "    matrix[row['ToNodeId'], row['FromNodeId']] += 1\n",
    "    return row\n",
    "\n",
    "# ----------\n",
    "\n",
    "def generate_matrix(datasets):\n",
    "    matrices = []\n",
    "    for idx, data in enumerate(datasets):\n",
    "        dimension = max(max(data['FromNodeId'].values), max(data['ToNodeId'].values))+1\n",
    "        matrix = lil_matrix((dimension, dimension))\n",
    "        edges = data.to_numpy()\n",
    "        for edge in edges:\n",
    "            matrix[edge[0],edge[1]] += edge[2]\n",
    "        matrix = csr_matrix(matrix)\n",
    "        matrices.append(matrix)\n",
    "    return matrices"
   ]
  },
  {
   "cell_type": "code",
   "execution_count": 39,
   "metadata": {},
   "outputs": [],
   "source": [
    "matrices = generate_matrix(datasets)\n",
    "\n",
    "# Sanity check\n",
    "for i, matrix in enumerate(matrices):\n",
    "    assert matrix.sum() == datasets[i]['Sign'].sum()"
   ]
  },
  {
   "cell_type": "markdown",
   "metadata": {},
   "source": [
    "### SVD <a class=\"anchor\" id=\"svd\"></a>"
   ]
  },
  {
   "cell_type": "markdown",
   "metadata": {},
   "source": [
    "Now that we have generated our (sparse) matrices, we can perform svd to allow data dimensionality reduction."
   ]
  },
  {
   "cell_type": "code",
   "execution_count": 47,
   "metadata": {},
   "outputs": [],
   "source": [
    "def compute_svd(matrices):\n",
    "    k=10\n",
    "    matrix_pca = []\n",
    "    for idx, matrix in enumerate(matrices):\n",
    "        svd = TruncatedSVD(k)\n",
    "        matrix_transformed = svd.fit_transform(matrix)\n",
    "        explained_variances = svd.explained_variance_ratio_\n",
    "        matrix_pca.append([matrix_transformed, explained_variances])\n",
    "    return matrix_pca"
   ]
  },
  {
   "cell_type": "code",
   "execution_count": 48,
   "metadata": {},
   "outputs": [],
   "source": [
    "matrix_pca = compute_svd(matrices)"
   ]
  },
  {
   "cell_type": "code",
   "execution_count": 50,
   "metadata": {},
   "outputs": [],
   "source": [
    "def select_n_components(var_ratio, goal_var = 0.8):\n",
    "    total_variance = 0.0\n",
    "    n_components = 0\n",
    "    for explained_variance in var_ratio:\n",
    "        total_variance += explained_variance\n",
    "        n_components += 1\n",
    "        if total_variance >= goal_var:\n",
    "            break\n",
    "    print(total_variance)\n",
    "    return n_components"
   ]
  },
  {
   "cell_type": "code",
   "execution_count": 70,
   "metadata": {},
   "outputs": [
    {
     "data": {
      "text/plain": [
       "<matplotlib.collections.PathCollection at 0x7fb4bf5cddf0>"
      ]
     },
     "execution_count": 70,
     "metadata": {},
     "output_type": "execute_result"
    },
    {
     "data": {
      "image/png": "[encoded data removed]",
      "text/plain": [
       "<Figure size 432x288 with 1 Axes>"
      ]
     },
     "metadata": {
      "needs_background": "light"
     },
     "output_type": "display_data"
    }
   ],
   "source": [
    "idx = 3\n",
    "plt.scatter(matrix_pca[idx][0][:,0], matrix_pca[idx][0][:,1])"
   ]
  },
  {
   "cell_type": "markdown",
   "metadata": {},
   "source": [
    "To do: try to improve svd, but will not work well imo"
   ]
  },
  {
   "cell_type": "markdown",
   "metadata": {},
   "source": [
    " "
   ]
  },
  {
   "cell_type": "markdown",
   "metadata": {},
   "source": [
    "## Logistic regression <a class=\"anchor\" id=\"logreg\"></a>"
   ]
  },
  {
   "cell_type": "markdown",
   "metadata": {},
   "source": [
    "To do: generate features which are expected to have more or less predictive power depending on the different theoretical considerations (e.g. the number of common neighbors, a balance and a status score based on the triads that the edge is involved in, etc.)"
   ]
  }
 ],
 "metadata": {
  "kernelspec": {
   "display_name": "Python 3",
   "language": "python",
   "name": "python3"
  },
  "language_info": {
   "codemirror_mode": {
    "name": "ipython",
    "version": 3
   },
   "file_extension": ".py",
   "mimetype": "text/x-python",
   "name": "python",
   "nbconvert_exporter": "python",
   "pygments_lexer": "ipython3",
   "version": "3.8.5"
  }
 },
 "nbformat": 4,
 "nbformat_minor": 4
}
